{
 "cells": [
  {
   "cell_type": "markdown",
   "metadata": {},
   "source": [
    "# Ana_io_functions NB"
   ]
  },
  {
   "cell_type": "markdown",
   "metadata": {},
   "source": [
    "## Authors: JJGC, JMV"
   ]
  },
  {
   "cell_type": "markdown",
   "metadata": {},
   "source": [
    "Software: FANAL\n",
    "    https://github.com/nextic/FANA"
   ]
  },
  {
   "cell_type": "code",
   "execution_count": 1,
   "metadata": {},
   "outputs": [
    {
     "name": "stdout",
     "output_type": "stream",
     "text": [
      "Last updated on  Mon Dec 24 11:41:38 2018\n"
     ]
    }
   ],
   "source": [
    "%load_ext autoreload\n",
    "%autoreload 2\n",
    "import os\n",
    "import sys\n",
    "import time\n",
    "import warnings\n",
    "import datetime \n",
    "print(\"Last updated on \", time.asctime())"
   ]
  },
  {
   "cell_type": "code",
   "execution_count": 2,
   "metadata": {},
   "outputs": [],
   "source": [
    "from fanal.core.fanal_types import SpatialDef"
   ]
  },
  {
   "cell_type": "markdown",
   "metadata": {},
   "source": [
    "```\n",
    "def get_ana_group_name(fwhm: float, spatial_def: SpatialDef)->str\n",
    "\n",
    "\n",
    "   Define the ana_group: \n",
    "\n",
    "      Parameters\n",
    "      ----------\n",
    "      fwhm:\n",
    "          A float representing FWHM at Qbb (in %).\n",
    "      SpatialDef:\n",
    "          An enum describing the level of spatial definintion ('low' or 'high').\n",
    "\n",
    "\n",
    "      Returns\n",
    "      -------\n",
    "          A string (the group name)\n",
    "\n",
    " ```\n"
   ]
  },
  {
   "cell_type": "code",
   "execution_count": 6,
   "metadata": {},
   "outputs": [
    {
     "data": {
      "text/plain": [
       "'/FANALIC/ANA_05fmhm_lowDef'"
      ]
     },
     "execution_count": 6,
     "metadata": {},
     "output_type": "execute_result"
    }
   ],
   "source": [
    "get_ana_group_name(0.5, SpatialDef.low)"
   ]
  },
  {
   "cell_type": "code",
   "execution_count": null,
   "metadata": {},
   "outputs": [],
   "source": []
  }
 ],
 "metadata": {
  "kernelspec": {
   "display_name": "Python 3",
   "language": "python",
   "name": "python3"
  },
  "language_info": {
   "codemirror_mode": {
    "name": "ipython",
    "version": 3
   },
   "file_extension": ".py",
   "mimetype": "text/x-python",
   "name": "python",
   "nbconvert_exporter": "python",
   "pygments_lexer": "ipython3",
   "version": "3.7.1"
  }
 },
 "nbformat": 4,
 "nbformat_minor": 2
}
